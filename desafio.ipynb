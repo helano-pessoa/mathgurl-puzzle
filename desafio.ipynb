{
 "cells": [
  {
   "cell_type": "markdown",
   "metadata": {},
   "source": [
    "##### Pacotes necessários (_DelimitedFiles_ pode ser ignorado caso não queira exportar soluções em .txt)"
   ]
  },
  {
   "cell_type": "code",
   "execution_count": null,
   "metadata": {},
   "outputs": [],
   "source": [
    "using JuMP, Cbc, DelimitedFiles"
   ]
  },
  {
   "cell_type": "markdown",
   "metadata": {},
   "source": [
    "##### Objeto do modelo"
   ]
  },
  {
   "cell_type": "code",
   "execution_count": null,
   "metadata": {},
   "outputs": [],
   "source": [
    "model = JuMP.Model(Cbc.Optimizer)\n",
    "set_silent(model) # silenciar solver log"
   ]
  },
  {
   "cell_type": "markdown",
   "metadata": {},
   "source": [
    "##### Parâmetros e conjuntos do problema"
   ]
  },
  {
   "cell_type": "code",
   "execution_count": null,
   "metadata": {},
   "outputs": [],
   "source": [
    "m, n = (6, 6)\n",
    "I = 1:m\n",
    "J = 1:n\n",
    "K = [1,2,3,4,5,6,7,8]\n",
    "big_m = m * n * K[end]"
   ]
  },
  {
   "cell_type": "markdown",
   "metadata": {},
   "source": [
    "##### Variáveis"
   ]
  },
  {
   "cell_type": "markdown",
   "metadata": {},
   "source": [
    " - $x_{ijk}$:  assume-se 1 se o valor $k$ é atribuído na posição da linha $i$ e coluna $j$ (Binary)\n",
    " - $y_{ij}$: valor atribuído na posição da linha $i$ e coluna $j$ (Integer)\n",
    "\n"
   ]
  },
  {
   "cell_type": "code",
   "execution_count": null,
   "metadata": {},
   "outputs": [],
   "source": [
    "@variable(model, x[i ∈ I, j ∈ J, k ∈ K], Bin);\n",
    "@variable(model, 1 <= y[i ∈ I, j ∈ J] <= 8, Int);"
   ]
  },
  {
   "cell_type": "markdown",
   "metadata": {},
   "source": [
    "##### Restrições"
   ]
  },
  {
   "cell_type": "markdown",
   "metadata": {},
   "source": [
    "Para obter-se uma matriz com a solução do problema. Essa restrição não é necessário no modelo, foi criada apenas obter-se a solução desejada pela própria modelagem em vez de criar um trecho para \"traduzir\" a variável binária 3D para uma grelha 2D\n",
    "\n",
    " - $\\quad y_{ij} = \\sum_{k \\in K} x_{ijk} \\quad \\forall i \\in I, j \\in J \\quad \\quad (1)$\n"
   ]
  },
  {
   "cell_type": "code",
   "execution_count": null,
   "metadata": {},
   "outputs": [],
   "source": [
    "@constraint(model, [i ∈ I, j ∈ J], y[i,j] == sum(x[i,j,k] * k for k ∈ K))"
   ]
  },
  {
   "cell_type": "markdown",
   "metadata": {},
   "source": [
    "Para garantir que um único número será atribuído em cada posição da grelha\n",
    " \n",
    " - $\\quad \\quad \\sum_{k \\in K} x_{ijk} = 1 \\quad \\forall i \\in I, j \\in J \\qquad \\qquad (2)$"
   ]
  },
  {
   "cell_type": "code",
   "execution_count": null,
   "metadata": {},
   "outputs": [],
   "source": [
    "@constraint(model, [i ∈ I, j ∈ J], sum(x[i,j,k] for k ∈ K) == 1)"
   ]
  },
  {
   "cell_type": "markdown",
   "metadata": {},
   "source": [
    "Para garantir que se um valor $k$ foi atribuído numa dada posição $a_{ij}$, esse mesmo $k$ não pode ser repetido em nenhuma posição com distância menor ou igual a $k$ na grelha\n",
    "\n",
    " - $\\sum_{(\\hat{i},\\hat{j}) \\in \\{(\\hat{i},\\hat{j}) \\mid \\hat{i} \\in I, \\hat{j} \\in J, \\, |\\hat{i} - i| + |\\hat{j} - j| \\leq k\\}} x_{\\hat{i}\\hat{j}k} \\leq M(1 - x_{ijk}) + x_{ijk} \\quad \\forall i \\in I, j \\in J, k \\in K$"
   ]
  },
  {
   "cell_type": "code",
   "execution_count": null,
   "metadata": {},
   "outputs": [],
   "source": [
    "for i ∈ I\n",
    "    for j ∈ J\n",
    "        for k ∈ K\n",
    "            arr = [[i_hat, j_hat] for i_hat ∈ I for j_hat ∈ J if abs(i-i_hat) + abs(j-j_hat) <= k]\n",
    "            @constraint(model, sum(x[i_bar, j_bar, k] for (i_bar, j_bar) in zip([[a[1] for a in arr]...], [[a[2] for a in arr]...])) <= big_m * (1 - x[i,j,k])  + x[i,j,k])\n",
    "        end\n",
    "    end\n",
    "end"
   ]
  },
  {
   "cell_type": "markdown",
   "metadata": {},
   "source": [
    "##### Função objetivo\n",
    "\n",
    " - Não há um objetivo especificado na descrição problema. Este foi criado para que pudesse ser formulado como um problema de otimização.\n",
    " \n",
    " - Optou-se por minimizar o somatório dos números dispostos na grelha (poderia ser maximizar)."
   ]
  },
  {
   "cell_type": "code",
   "execution_count": null,
   "metadata": {},
   "outputs": [],
   "source": [
    "@objective(model, Min, sum(y[i,j] for i ∈ I for j ∈ J))"
   ]
  },
  {
   "cell_type": "markdown",
   "metadata": {},
   "source": [
    "##### Solução"
   ]
  },
  {
   "cell_type": "code",
   "execution_count": null,
   "metadata": {},
   "outputs": [],
   "source": [
    "optimize!(model)\n",
    "println(\"Valor da função objetivo: $(objective_value(model))\")\n",
    "println(\"Solução: $(value.(y) |> Array{Int64})\")\n"
   ]
  },
  {
   "cell_type": "markdown",
   "metadata": {},
   "source": [
    "##### Várias soluções (opcional)\n",
    "\n",
    " - É possível gerar diversas soluções para o problema especificado através de várias execuções do solver. A cada iteração no laço \"while\" é verificado se o valor da função objetivo é maior que o da execução anterior e uma nova restrição é adicionada ao modelo para limitar inferiormente o valor da função objetivo pelo valor obtido na última execução.\n",
    " \n",
    " - Para ativar esta implementação e salvar as soluções em arquivos .txt basta substituir `false` por `true` no `if` da primeira linha do trecho de código abaixo."
   ]
  },
  {
   "cell_type": "code",
   "execution_count": null,
   "metadata": {},
   "outputs": [],
   "source": [
    "if false\n",
    "    aux = true\n",
    "    previous_of = 0\n",
    "    d = Dict()\n",
    "    count = 0\n",
    "    while aux\n",
    "        optimize!(model)\n",
    "        status = termination_status(model)\n",
    "        \n",
    "        if status != MOI.OPTIMAL\n",
    "            break\n",
    "        end\n",
    "        \n",
    "        count -= -1\n",
    "        @show count\n",
    "        of = objective_value(model)\n",
    "        @show of\n",
    "        sol = round.(value.(y)) |> Array{Int64}\n",
    "        @show sol\n",
    "\n",
    "        if of > previous_of\n",
    "            @constraint(model, sum(y[i,j] for i ∈ I for j ∈ J) >= of + 1)\n",
    "\n",
    "            writedlm(\"sol_obj_$(of).txt\", sol, ' ')\n",
    "\n",
    "            d[\"$(of)\"] = sol\n",
    "            previous_of = of\n",
    "        else\n",
    "            aux = false\n",
    "        end\n",
    "    end\n",
    "end"
   ]
  },
  {
   "cell_type": "code",
   "execution_count": null,
   "metadata": {},
   "outputs": [],
   "source": []
  }
 ],
 "metadata": {
  "kernelspec": {
   "display_name": "Julia 1.6.2",
   "language": "julia",
   "name": "julia-1.6"
  },
  "language_info": {
   "file_extension": ".jl",
   "mimetype": "application/julia",
   "name": "julia",
   "version": "1.6.2"
  },
  "orig_nbformat": 4
 },
 "nbformat": 4,
 "nbformat_minor": 2
}
